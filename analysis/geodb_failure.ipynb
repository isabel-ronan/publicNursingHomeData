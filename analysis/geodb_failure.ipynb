{
 "cells": [
  {
   "cell_type": "markdown",
   "metadata": {},
   "source": [
    "# Experiment with Geo-DB\n",
    "- getting more information about areas surrounding nursing homes. \n",
    "- data comes from [DATA.GOV.IE](https://data.gov.ie/)\n",
    "- list of [irish nursing homes](https://data.gov.ie/dataset/list-of-nursing-homes-in-ireland) and list of [irish hospitals](https://data.gov.ie/dataset/list-of-hospitals-in-ireland) from 2017\n",
    "- using conda environment named 'data_analysis' (Python 3.12.3)"
   ]
  },
  {
   "cell_type": "code",
   "execution_count": 2,
   "metadata": {},
   "outputs": [],
   "source": [
    "import requests"
   ]
  },
  {
   "cell_type": "code",
   "execution_count": null,
   "metadata": {},
   "outputs": [],
   "source": [
    "api_key = \"978297069cmsh5a702015567dccap13944ejsnc68c717fc9fa\""
   ]
  },
  {
   "cell_type": "code",
   "execution_count": 3,
   "metadata": {},
   "outputs": [
    {
     "name": "stdout",
     "output_type": "stream",
     "text": [
      "New York United Kingdom\n",
      "New York United Kingdom\n",
      "East New York United States of America\n",
      "New York United States of America\n",
      "New York United States of America\n",
      "New York United States of America\n",
      "New York City United States of America\n",
      "New York County United States of America\n",
      "New York Flat United States of America\n",
      "New York Mills United States of America\n"
     ]
    }
   ],
   "source": [
    "import requests\n",
    "\n",
    "# Define the base URL for the GeoDB Cities API\n",
    "base_url = \"https://wft-geo-db.p.rapidapi.com/v1/geo/cities\"\n",
    "\n",
    "# Define the parameters for your API request\n",
    "params = {\n",
    "    \"namePrefix\": \"New York\",  # Example: search for cities with name starting with \"New York\"\n",
    "    \"limit\": 10  # Limit the number of results\n",
    "}\n",
    "\n",
    "# Define the headers including your API key\n",
    "headers = {\n",
    "    \"x-rapidapi-host\": \"wft-geo-db.p.rapidapi.com\",\n",
    "    \"x-rapidapi-key\": api_key\n",
    "}\n",
    "\n",
    "# Send a GET request to the GeoDB Cities API\n",
    "response = requests.get(base_url, params=params, headers=headers)\n",
    "\n",
    "# Check if the request was successful (status code 200)\n",
    "if response.status_code == 200:\n",
    "    # Parse the JSON response\n",
    "    data = response.json()\n",
    "    # Print the results\n",
    "    for city in data['data']:\n",
    "        print(city['city'], city['country'])\n",
    "else:\n",
    "    print(\"Error:\", response.status_code)\n"
   ]
  },
  {
   "cell_type": "code",
   "execution_count": 5,
   "metadata": {},
   "outputs": [
    {
     "name": "stdout",
     "output_type": "stream",
     "text": [
      "Error: 404\n"
     ]
    }
   ],
   "source": [
    "\n",
    "\n",
    "# Define the base URL for the GeoDB Cities API\n",
    "base_url = \"https://wft-geo-db.p.rapidapi.com/v1/geo\"\n",
    "\n",
    "\n",
    "# Define the parameters for your API request\n",
    "params = {\n",
    "    \"countryIds\": \"IE\",  # Country code for Ireland\n",
    "}\n",
    "\n",
    "# Define the headers including your API key\n",
    "headers = {\n",
    "    \"x-rapidapi-host\": \"wft-geo-db.p.rapidapi.com\",\n",
    "    \"x-rapidapi-key\": api_key\n",
    "}\n",
    "\n",
    "# Send a GET request to the GeoDB Cities API to retrieve regions in Ireland\n",
    "response = requests.get(f\"{base_url}/regions\", params=params, headers=headers)\n",
    "\n",
    "# Check if the request was successful (status code 200)\n",
    "if response.status_code == 200:\n",
    "    # Parse the JSON response\n",
    "    data = response.json()\n",
    "    # Print region details for each region in Ireland\n",
    "    for region in data['data']:\n",
    "        print(region['name'], region['code'])\n",
    "else:\n",
    "    print(\"Error:\", response.status_code)\n"
   ]
  },
  {
   "cell_type": "code",
   "execution_count": null,
   "metadata": {},
   "outputs": [],
   "source": []
  }
 ],
 "metadata": {
  "kernelspec": {
   "display_name": "data_analysis",
   "language": "python",
   "name": "python3"
  },
  "language_info": {
   "codemirror_mode": {
    "name": "ipython",
    "version": 3
   },
   "file_extension": ".py",
   "mimetype": "text/x-python",
   "name": "python",
   "nbconvert_exporter": "python",
   "pygments_lexer": "ipython3",
   "version": "3.12.3"
  }
 },
 "nbformat": 4,
 "nbformat_minor": 2
}

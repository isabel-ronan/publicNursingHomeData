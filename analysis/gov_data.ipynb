{
 "cells": [
  {
   "cell_type": "markdown",
   "metadata": {},
   "source": [
    "# Analysis of Closest Hospitals to Nursing Homes in Ireland\n",
    "- article done on [nursing homes and populations](https://hrbopenresearch.org/articles/3-65) based on need and availability\n",
    "- inspired by [The relationship between distance to hospital and patient mortality in emergencies: an observational study](https://www.ncbi.nlm.nih.gov/pmc/articles/PMC2464671/), a UK study on distances from hospitals and mortality rates\n",
    "- data comes from [DATA.GOV.IE](https://data.gov.ie/)\n",
    "- list of [irish nursing homes](https://data.gov.ie/dataset/list-of-nursing-homes-in-ireland) and list of [irish hospitals](https://data.gov.ie/dataset/list-of-hospitals-in-ireland) from 2017\n",
    "- using conda environment named 'data_analysis' (Python 3.12.3)"
   ]
  },
  {
   "cell_type": "code",
   "execution_count": 1,
   "metadata": {},
   "outputs": [],
   "source": [
    "# import libraries\n",
    "import os\n",
    "import pandas as pd\n",
    "import matplotlib.pyplot as plt\n",
    "from mpl_toolkits.basemap import Basemap\n",
    "import pyproj\n",
    "import math\n",
    "from collections import Counter\n",
    "import mpld3\n",
    "from mpld3 import plugins"
   ]
  },
  {
   "cell_type": "code",
   "execution_count": 2,
   "metadata": {},
   "outputs": [],
   "source": [
    "# data paths\n",
    "DATA_GOV_PATH = '../data_gov_ie/'"
   ]
  },
  {
   "cell_type": "code",
   "execution_count": 3,
   "metadata": {},
   "outputs": [
    {
     "data": {
      "text/plain": [
       "dict_keys(['personsInCommunalEstablishments', 'disability', 'publicPrivateExpenditureFairDeals', 'irish_hospitals', 'placeOfDeathSPCCommunity', 'deaths_by_age', 'lengthOfStayInHospice', 'irish_nursing_homes', 'deaths_by_location'])"
      ]
     },
     "execution_count": 3,
     "metadata": {},
     "output_type": "execute_result"
    }
   ],
   "source": [
    "df_dict = {}\n",
    "for item in os.listdir(DATA_GOV_PATH):\n",
    "    if '.csv' in item:\n",
    "        df_dict[item.replace('.csv', '')] = pd.read_csv(DATA_GOV_PATH + item)\n",
    "\n",
    "df_dict.keys()"
   ]
  },
  {
   "cell_type": "markdown",
   "metadata": {},
   "source": [
    "## Geographical Spread of Irish Nursing Homes"
   ]
  },
  {
   "cell_type": "code",
   "execution_count": 4,
   "metadata": {},
   "outputs": [
    {
     "name": "stdout",
     "output_type": "stream",
     "text": [
      "_id             0\n",
      "Service name    0\n",
      "Address         0\n",
      "County          0\n",
      "ig_xcord        0\n",
      "ig_ycord        0\n",
      "dtype: int64\n",
      "_id        0\n",
      "name       0\n",
      "address    0\n",
      "x          0\n",
      "y          0\n",
      "dtype: int64\n"
     ]
    }
   ],
   "source": [
    "# check for missing values\n",
    "print((df_dict['irish_nursing_homes'].isnull()).sum())\n",
    "df_dict['irish_hospitals'] = df_dict['irish_hospitals'].drop(['eircode'], axis = 1)\n",
    "print((df_dict['irish_hospitals'].isnull()).sum())"
   ]
  },
  {
   "cell_type": "markdown",
   "metadata": {},
   "source": [
    "- no missing values found for nursing home data\n",
    "- dropped eircode column in hospital dataset due to 4 missing values"
   ]
  },
  {
   "cell_type": "code",
   "execution_count": 5,
   "metadata": {},
   "outputs": [],
   "source": [
    "homes_df = df_dict['irish_nursing_homes'].drop_duplicates(subset = ['Service name', 'Address'])\n",
    "hospitals_df = df_dict['irish_hospitals'].drop_duplicates(subset = ['name', 'address'])"
   ]
  },
  {
   "cell_type": "code",
   "execution_count": 6,
   "metadata": {},
   "outputs": [],
   "source": [
    "%matplotlib inline\n",
    "\n",
    "# create map of Ireland\n",
    "fig, ax = plt.subplots(figsize=(8, 6))\n",
    "basemap = Basemap(projection='merc', llcrnrlat=51, urcrnrlat=56, llcrnrlon=-11, urcrnrlon=-5, resolution='i', ax=ax)\n",
    "\n",
    "# draw map features\n",
    "basemap.drawcoastlines()\n",
    "basemap.drawcountries()\n",
    "basemap.fillcontinents(color='lightgray', zorder=0)\n",
    "\n",
    "# convert ITM coordinates to geographic latitude and longitude coordinates\n",
    "itm_proj = pyproj.Proj('epsg:29902')  \n",
    "home_lon, home_lat = itm_proj(homes_df['ig_xcord'].values, homes_df['ig_ycord'].values, inverse=True)\n",
    "hospital_lon, hospital_lat = itm_proj(hospitals_df['x'].values, hospitals_df['y'].values, inverse=True)\n",
    "\n",
    "# plot map points\n",
    "home_x, home_y = basemap(home_lon, home_lat)\n",
    "hospital_x, hospital_y = basemap(hospital_lon, hospital_lat)\n",
    "home_scatter = basemap.scatter(home_x, home_y, marker='o', color='red', edgecolors='black', s=15, zorder=3, label='Nursing Homes')\n",
    "hospital_scatter = basemap.scatter(hospital_x, hospital_y, marker='o', color='blue', edgecolors='black', s=15, zorder=3, label='Hospitals')\n",
    "\n",
    "# hover functionality\n",
    "home_labels = [f'<div style=\"background-color: white; color: black; border: 1px solid black; padding: 5px;\">{name}</div>' for name in homes_df['Service name']]\n",
    "hospital_labels = [f'<div style=\"background-color: white; color: black; border: 1px solid black; padding: 5px;\">{name}</div>' for name in hospitals_df['name']]\n",
    "\n",
    "tooltip_home = plugins.PointHTMLTooltip(home_scatter, labels=home_labels)\n",
    "tooltip_hospital = plugins.PointHTMLTooltip(hospital_scatter, labels=hospital_labels)\n",
    "\n",
    "plugins.connect(fig, tooltip_home, tooltip_hospital)\n",
    "\n",
    "# add title\n",
    "plt.title('Locations of Hospitals and Nursing Homes in Ireland')\n",
    "plt.legend()\n",
    "# save plot\n",
    "plt.savefig('../graphs/locations_homes_hospitals.png', bbox_inches='tight')\n",
    "# show plot\n",
    "mpld3.display()\n",
    "# for zooming\n",
    "# mpld3.show()\n",
    "\n",
    "\n",
    "# save plot as HTML file\n",
    "html_str = mpld3.fig_to_html(fig)\n",
    "with open(\"../html_pages/hospitalsAndNursingHomes.html\", \"w\") as f:\n",
    "    f.write(html_str)"
   ]
  },
  {
   "cell_type": "code",
   "execution_count": 7,
   "metadata": {},
   "outputs": [],
   "source": [
    "# create function to calculate distance between two points\n",
    "def haversine_distance(home_lon, hospital_lon, home_lat, hospital_lat):\n",
    "    \"\"\"\n",
    "    calculate the great circular distance between two points on earth specified in decimal degrees\n",
    "    accepts input in irish grid and outputs distance in km\n",
    "    \"\"\"\n",
    "    # convert ITM coordinates to geographic latitude and longitude coordinates\n",
    "    itm_proj = pyproj.Proj('epsg:29902')\n",
    "    lon1, lat1 = itm_proj(home_lon, home_lat, inverse=True)\n",
    "    lon2, lat2 = itm_proj(hospital_lon, hospital_lat, inverse=True)\n",
    "    \n",
    "    # convert decimal degrees to radians\n",
    "    lon1, lon2, lat1, lat2 = map(math.radians, [lon1, lon2, lat1, lat2])\n",
    "\n",
    "    # haversine formula\n",
    "    dlon = lon2 - lon1\n",
    "    dlat = lat2 - lat1\n",
    "    a = math.sin(dlat/2)**2 + math.cos(lat1) * math.cos(lat2) * math.sin(dlon/2)**2\n",
    "    c = 2 * math.asin(math.sqrt(a))\n",
    "    \n",
    "    # radius of earth in km is 6371\n",
    "    km = 6371 * c\n",
    "    return km\n",
    "\n",
    "def straight_line_distance(lon1, lon2, lat1, lat2):\n",
    "    \"\"\" \n",
    "    Calculate Euclidian distance. \n",
    "    \"\"\"\n",
    "    # convert ITM coordinates to geographic latitude and longitude coordinates\n",
    "    itm_proj = pyproj.Proj('epsg:29902')\n",
    "    lon1, lat1 = itm_proj(lon1, lat1, inverse=True)\n",
    "    lon2, lat2 = itm_proj(lon2, lat2, inverse=True)\n",
    "\n",
    "    # convert latitude and longitude from degrees to radians\n",
    "    lat1_rad, lon1_rad = math.radians(lat1), math.radians(lon1)\n",
    "    lat2_rad, lon2_rad = math.radians(lat2), math.radians(lon2)\n",
    "\n",
    "    # difference in latitude and longitude\n",
    "    delta_lat = lat2_rad - lat1_rad\n",
    "    delta_lon = lon2_rad - lon1_rad\n",
    "\n",
    "    # calculate distance using Euclidean formula\n",
    "    distance = math.sqrt(delta_lat ** 2 + delta_lon ** 2)\n",
    "\n",
    "    # radius of the Earth (in kilometers)\n",
    "    # for more accurate distances, you can use the WGS84 ellipsoid model of the Earth\n",
    "    # the radius of the Earth varies slightly depending on the latitude\n",
    "    earth_radius = 6371.0\n",
    "\n",
    "    # convert distance from radians to kilometers\n",
    "    distance_km = earth_radius * distance\n",
    "\n",
    "    return distance_km"
   ]
  },
  {
   "cell_type": "code",
   "execution_count": 8,
   "metadata": {},
   "outputs": [],
   "source": [
    "all_dist = {}\n",
    "for i in range(len(homes_df)):\n",
    "    temp_dist = 1000000000000000000000000000000000\n",
    "    temp_hospital = \"\"\n",
    "    temp_address = \"\"\n",
    "    temp_x = 0\n",
    "    temp_y = 0\n",
    "    for j in range(len(hospitals_df)):\n",
    "        new_dist = straight_line_distance(homes_df['ig_xcord'][i], hospitals_df['x'][j], homes_df['ig_ycord'][i], hospitals_df['y'][j])\n",
    "        if new_dist < temp_dist:\n",
    "            temp_dist = new_dist\n",
    "            temp_hospital = hospitals_df['name'][j]\n",
    "            temp_x = hospitals_df['x'][j]\n",
    "            temp_y = hospitals_df['y'][j]\n",
    "            temp_address = hospitals_df['address'][j]\n",
    "    all_dist[i] = {'home_name': homes_df['Service name'][i], 'home_address': homes_df['Address'][i] , 'home_x': homes_df['ig_xcord'][i], 'home_y': homes_df['ig_ycord'][i] , 'hospital_name': temp_hospital, 'hospital_address': temp_address, 'hospital_x': temp_x, 'hospital_y': temp_y,'distance': temp_dist}"
   ]
  },
  {
   "cell_type": "code",
   "execution_count": 9,
   "metadata": {},
   "outputs": [
    {
     "name": "stdout",
     "output_type": "stream",
     "text": [
      "Counter({\"St Columcille's Hospital\": 25, 'University Hospital Kerry': 25, 'South Infirmary Victoria University Hospital': 24, 'Mayo General Hospital': 22, 'Beaumont Hospital': 22, 'South Tipperary General Hospital': 21, 'Sligo Regional Hospital': 20, 'Roscommon County Hospital': 20, 'Merlin Park University Hospital': 20, \"St Luke's General Hospital Kilkenny\": 20, 'Naas General Hospital': 20, 'Nenagh Hospital': 18, \"St Vincent's University Hospital\": 17, 'Letterkenny University Hospital': 17, 'Cork University Hospital': 17, \"St John's Hospital\": 17, 'Mater Misericordiae Hospital': 17, 'University Hospital Waterford': 17, 'Connolly Hospital Dublin': 17, 'Wexford General Hospital': 15, 'Mallow General Hospital': 15, 'Ennis Hospital': 14, \"St Michael's Hospital Dun Laoghaire\": 14, 'Portiuncula Hospital': 14, \"St James's Hospital Dublin\": 13, 'Midland Regional Hospital Mullingar': 12, 'Bantry General Hospital': 12, 'University Hospital Galway': 11, 'Cavan General Hospital': 11, 'Our Lady of Lourdes Hospital Drogheda': 10, 'Midland Regional Hospital Portlaoise': 10, 'The Adelaide & Meath Hospital (Tallaght Hospital) Dublin': 10, \"Our Lady's Hospital Navan\": 9, 'Louth County Hospital Dundalk': 8, 'University Hospital Limerick': 7, 'Midland Regional Hospital Tullamore': 7, 'Monaghan Hospital': 7, 'Mercy University Hospital': 3}) Counter({'Bray Road, Loughlinstown, Co. Dublin,': 25, 'Tralee, Co. Kerry,': 25, 'Old Blackrock Road, Cork,': 24, 'Westport Road, Castlebar, Co. Mayo,': 22, 'Beaumont Road, Dublin 9,': 22, 'Western Road, Clonmel, Co. Tipperary,': 21, 'The Mall, Sligo,': 20, 'Ardsallagh Beg, Co. Roscommon,': 20, 'Galway,': 20, 'Freshford Road, Kilkenny,': 20, 'Craddockstown Road, Naas, Co. Kildare,': 20, 'Tyone, Nenagh, Co. Tipperary,': 18, 'Elm Park, Nutley Lane, Dublin 4,': 17, 'Kilmacrennan Road, Letterkenny, Co. Donegal,': 17, 'Wilton, Cork,': 17, \"St. John's Square, Limerick\": 17, 'Eccles Street, Dublin 7,': 17, 'Dunmore Road, Waterford,': 17, 'Mill Road, Dublin 15,': 17, 'Newtown Road, Wexford, Y35y17d': 15, 'Kilknockin, Mallow, Co. Cork,': 15, 'Gort Road, Ennis, Co. Clare,': 14, \"George's Street Lower, Dun Laoghaire, Co. Dublin,\": 14, 'Ballinasloe, Co. Galway,': 14, \"James's Street, Dublin 8,\": 13, 'Longford Road, Mullingar, Co. Westmeath,': 12, 'Carrignagat, Bantry, Co. Cork,': 12, 'Newcastle Road, Galway,': 11, 'Lisdarn, Cavan,': 11, 'Drogheda, Co. Louth,': 10, 'Dublin Road, Portlaoise, Co. Laois,': 10, 'Tallaght, Dublin 24': 10, 'Navan, Co. Meath,': 9, 'Dublin Road, Dundalk': 8, \"Saint Nessan's Road, Dooradoyle, Limerick,\": 7, 'Arden Road, Tullamore, Co. Offaly,': 7, 'Monaghan,': 7, 'Grenville Place, Cork,': 3})\n"
     ]
    }
   ],
   "source": [
    "all_dist = pd.DataFrame(all_dist)\n",
    "distances_df = all_dist.transpose()\n",
    "print(Counter(distances_df['hospital_name']), Counter(distances_df['hospital_address']))"
   ]
  },
  {
   "cell_type": "code",
   "execution_count": 10,
   "metadata": {},
   "outputs": [
    {
     "data": {
      "text/html": [
       "<div>\n",
       "<style scoped>\n",
       "    .dataframe tbody tr th:only-of-type {\n",
       "        vertical-align: middle;\n",
       "    }\n",
       "\n",
       "    .dataframe tbody tr th {\n",
       "        vertical-align: top;\n",
       "    }\n",
       "\n",
       "    .dataframe thead th {\n",
       "        text-align: right;\n",
       "    }\n",
       "</style>\n",
       "<table border=\"1\" class=\"dataframe\">\n",
       "  <thead>\n",
       "    <tr style=\"text-align: right;\">\n",
       "      <th></th>\n",
       "      <th>home_name</th>\n",
       "      <th>home_address</th>\n",
       "      <th>home_x</th>\n",
       "      <th>home_y</th>\n",
       "      <th>hospital_name</th>\n",
       "      <th>hospital_address</th>\n",
       "      <th>hospital_x</th>\n",
       "      <th>hospital_y</th>\n",
       "      <th>distance</th>\n",
       "    </tr>\n",
       "  </thead>\n",
       "  <tbody>\n",
       "    <tr>\n",
       "      <th>440</th>\n",
       "      <td>St. Anne's Community Nursing Home</td>\n",
       "      <td>St. Anne's Community Nursing Home, Westport Ro...</td>\n",
       "      <td>65628.63054</td>\n",
       "      <td>251117.3017</td>\n",
       "      <td>Mayo General Hospital</td>\n",
       "      <td>Westport Road, Castlebar, Co. Mayo,</td>\n",
       "      <td>114195.8524</td>\n",
       "      <td>289970.125</td>\n",
       "      <td>89.5571</td>\n",
       "    </tr>\n",
       "  </tbody>\n",
       "</table>\n",
       "</div>"
      ],
      "text/plain": [
       "                             home_name  \\\n",
       "440  St. Anne's Community Nursing Home   \n",
       "\n",
       "                                          home_address       home_x  \\\n",
       "440  St. Anne's Community Nursing Home, Westport Ro...  65628.63054   \n",
       "\n",
       "          home_y          hospital_name                     hospital_address  \\\n",
       "440  251117.3017  Mayo General Hospital  Westport Road, Castlebar, Co. Mayo,   \n",
       "\n",
       "      hospital_x  hospital_y distance  \n",
       "440  114195.8524  289970.125  89.5571  "
      ]
     },
     "execution_count": 10,
     "metadata": {},
     "output_type": "execute_result"
    }
   ],
   "source": [
    "row_data_loc = distances_df.loc[distances_df['distance'] == max(distances_df['distance'])]\n",
    "row_data_loc"
   ]
  },
  {
   "cell_type": "code",
   "execution_count": 11,
   "metadata": {},
   "outputs": [
    {
     "name": "stdout",
     "output_type": "stream",
     "text": [
      "578 578 578\n"
     ]
    }
   ],
   "source": [
    "# create map of Ireland\n",
    "fig, ax = plt.subplots(figsize=(8, 6))\n",
    "basemap = Basemap(projection='merc', llcrnrlat=51, urcrnrlat=56, llcrnrlon=-11, urcrnrlon=-5, resolution='i', ax = ax)\n",
    "\n",
    "# draw map features\n",
    "basemap.drawcoastlines()\n",
    "basemap.drawcountries()\n",
    "basemap.fillcontinents(color='lightgray', zorder=0)\n",
    "\n",
    "# convert ITM coordinates to geographic latitude and longitude coordinates\n",
    "itm_proj = pyproj.Proj('epsg:29902')  \n",
    "home_lon, home_lat = itm_proj(distances_df['home_x'].values, distances_df['home_y'].values, inverse=True)\n",
    "\n",
    "# plot map points\n",
    "home_x, home_y = basemap(home_lon, home_lat)\n",
    "home_labels = [str(name) for name in homes_df['Service name']]\n",
    "print(len(home_x), len(home_y), len(distances_df['distance'].values))\n",
    "\n",
    "number_of_risky_homes = 0\n",
    "red_x = []\n",
    "red_y = []\n",
    "red_name = []\n",
    "blue_x = []\n",
    "blue_y = []\n",
    "blue_name = []\n",
    "green_x = []\n",
    "green_y = []\n",
    "green_name = []\n",
    "for lon, lat, size, name in zip(home_x, home_y, distances_df['distance'], home_labels):\n",
    "    # distance categories defined by: https://www.ncbi.nlm.nih.gov/pmc/articles/PMC2464671/\n",
    "    # 10km increase in straight-line distance is associated with a 1% absolute increase in mortality\n",
    "\n",
    "    if size >= 21:\n",
    "        red_x.append(lon)\n",
    "        red_y.append(lat)\n",
    "        red_name.append(name)\n",
    "        number_of_risky_homes += 1\n",
    "    elif size >= 11:\n",
    "        blue_x.append(lon)\n",
    "        blue_y.append(lat)\n",
    "        blue_name.append(name)\n",
    "    elif size < 11:\n",
    "        green_x.append(lon)\n",
    "        green_y.append(lat)\n",
    "        green_name.append(name)\n",
    "    else:\n",
    "        print('anomaly')\n",
    "\n",
    "red_scatter = basemap.scatter(red_x, red_y, marker='o', color='red', edgecolors='black', s=15, zorder=9, label='21km+')\n",
    "blue_scatter = basemap.scatter(blue_x, blue_y, marker='o', color='blue', edgecolors='black', s=15, zorder=8,  label='11km-20km')\n",
    "green_scatter = basemap.scatter(green_x, green_y, marker='o', color='green', edgecolors='black', s=15, zorder=7, label='0km-10km')\n",
    "\n",
    "# hover functionality\n",
    "red_labels = [f'<div style=\"background-color: white; color: black; border: 1px solid red; padding: 5px;\">{name}</div>' for name in red_name]\n",
    "blue_labels = [f'<div style=\"background-color: white; color: black; border: 1px solid blue; padding: 5px;\">{name}</div>' for name in blue_name]\n",
    "green_labels = [f'<div style=\"background-color: white; color: black; border: 1px solid green; padding: 5px;\">{name}</div>' for name in green_name]\n",
    "\n",
    "\n",
    "tooltip_red = plugins.PointHTMLTooltip(red_scatter, labels=red_labels)\n",
    "tooltip_blue = plugins.PointHTMLTooltip(blue_scatter, labels=blue_labels)\n",
    "tooltip_green = plugins.PointHTMLTooltip(green_scatter, labels=green_labels)\n",
    "\n",
    "\n",
    "plugins.connect(fig, tooltip_red, tooltip_blue, tooltip_green)\n",
    "\n",
    "\n",
    "# add title\n",
    "plt.title('Distances from Nursing Homes to Hospitals')\n",
    "plt.legend()\n",
    "# save plot\n",
    "plt.savefig('../graphs/map_greatest_distance_from_homes_to_hospitals.png', bbox_inches='tight')\n",
    "# show plot\n",
    "mpld3.display()\n",
    "# for zooming\n",
    "# mpld3.show()\n",
    "\n",
    "# save plot as HTML file\n",
    "html_str = mpld3.fig_to_html(fig)\n",
    "with open(\"../html_pages/distancesFromHospitals.html\", \"w\") as f:\n",
    "    f.write(html_str)\n"
   ]
  },
  {
   "cell_type": "code",
   "execution_count": 12,
   "metadata": {},
   "outputs": [
    {
     "name": "stdout",
     "output_type": "stream",
     "text": [
      "240 out of 578 homes are at least 21km from the closest hospital. Therefore, 41.522491349480966% of homes are potentially at risk.\n"
     ]
    }
   ],
   "source": [
    "print(number_of_risky_homes, 'out of', len(distances_df) ,'homes are at least 21km from the closest hospital. Therefore,', (str(number_of_risky_homes / len(distances_df) * 100) + '% of homes are potentially at risk.'))"
   ]
  },
  {
   "cell_type": "code",
   "execution_count": 13,
   "metadata": {},
   "outputs": [
    {
     "data": {
      "text/plain": [
       "dict_keys(['personsInCommunalEstablishments', 'disability', 'publicPrivateExpenditureFairDeals', 'irish_hospitals', 'placeOfDeathSPCCommunity', 'deaths_by_age', 'lengthOfStayInHospice', 'irish_nursing_homes', 'deaths_by_location'])"
      ]
     },
     "execution_count": 13,
     "metadata": {},
     "output_type": "execute_result"
    }
   ],
   "source": [
    "df_dict.keys()"
   ]
  },
  {
   "cell_type": "code",
   "execution_count": 14,
   "metadata": {},
   "outputs": [],
   "source": [
    "pc_death_place_df = df_dict['placeOfDeathSPCCommunity']\n",
    "death_by_age_df = df_dict['deaths_by_age']\n",
    "length_hospice_df = df_dict['lengthOfStayInHospice']\n",
    "overall_deaths_by_location  = df_dict['deaths_by_location']\n"
   ]
  },
  {
   "cell_type": "code",
   "execution_count": 15,
   "metadata": {},
   "outputs": [
    {
     "data": {
      "text/html": [
       "<div>\n",
       "<style scoped>\n",
       "    .dataframe tbody tr th:only-of-type {\n",
       "        vertical-align: middle;\n",
       "    }\n",
       "\n",
       "    .dataframe tbody tr th {\n",
       "        vertical-align: top;\n",
       "    }\n",
       "\n",
       "    .dataframe thead th {\n",
       "        text-align: right;\n",
       "    }\n",
       "</style>\n",
       "<table border=\"1\" class=\"dataframe\">\n",
       "  <thead>\n",
       "    <tr style=\"text-align: right;\">\n",
       "      <th></th>\n",
       "      <th>Statistic Label</th>\n",
       "      <th>Quarter</th>\n",
       "      <th>Cause of Death</th>\n",
       "      <th>County of Residence of Deceased</th>\n",
       "      <th>UNIT</th>\n",
       "      <th>VALUE</th>\n",
       "    </tr>\n",
       "  </thead>\n",
       "  <tbody>\n",
       "    <tr>\n",
       "      <th>0</th>\n",
       "      <td>Deaths Registered</td>\n",
       "      <td>2022Q1</td>\n",
       "      <td>Total deaths (A00-Y89)</td>\n",
       "      <td>Ireland</td>\n",
       "      <td>Number</td>\n",
       "      <td>9535.0</td>\n",
       "    </tr>\n",
       "    <tr>\n",
       "      <th>1</th>\n",
       "      <td>Deaths Registered</td>\n",
       "      <td>2022Q1</td>\n",
       "      <td>Total deaths (A00-Y89)</td>\n",
       "      <td>Cork City Council</td>\n",
       "      <td>Number</td>\n",
       "      <td>376.0</td>\n",
       "    </tr>\n",
       "    <tr>\n",
       "      <th>2</th>\n",
       "      <td>Deaths Registered</td>\n",
       "      <td>2022Q1</td>\n",
       "      <td>Total deaths (A00-Y89)</td>\n",
       "      <td>Clare County Council</td>\n",
       "      <td>Number</td>\n",
       "      <td>236.0</td>\n",
       "    </tr>\n",
       "    <tr>\n",
       "      <th>3</th>\n",
       "      <td>Deaths Registered</td>\n",
       "      <td>2022Q1</td>\n",
       "      <td>Total deaths (A00-Y89)</td>\n",
       "      <td>Cavan County Council</td>\n",
       "      <td>Number</td>\n",
       "      <td>150.0</td>\n",
       "    </tr>\n",
       "    <tr>\n",
       "      <th>4</th>\n",
       "      <td>Deaths Registered</td>\n",
       "      <td>2022Q1</td>\n",
       "      <td>Total deaths (A00-Y89)</td>\n",
       "      <td>Cork County Council</td>\n",
       "      <td>Number</td>\n",
       "      <td>766.0</td>\n",
       "    </tr>\n",
       "    <tr>\n",
       "      <th>...</th>\n",
       "      <td>...</td>\n",
       "      <td>...</td>\n",
       "      <td>...</td>\n",
       "      <td>...</td>\n",
       "      <td>...</td>\n",
       "      <td>...</td>\n",
       "    </tr>\n",
       "    <tr>\n",
       "      <th>1339</th>\n",
       "      <td>Deaths Registered</td>\n",
       "      <td>2023Q3</td>\n",
       "      <td>All other causes</td>\n",
       "      <td>Tipperary County Council</td>\n",
       "      <td>Number</td>\n",
       "      <td>81.0</td>\n",
       "    </tr>\n",
       "    <tr>\n",
       "      <th>1340</th>\n",
       "      <td>Deaths Registered</td>\n",
       "      <td>2023Q3</td>\n",
       "      <td>All other causes</td>\n",
       "      <td>Waterford City &amp; County Council</td>\n",
       "      <td>Number</td>\n",
       "      <td>68.0</td>\n",
       "    </tr>\n",
       "    <tr>\n",
       "      <th>1341</th>\n",
       "      <td>Deaths Registered</td>\n",
       "      <td>2023Q3</td>\n",
       "      <td>All other causes</td>\n",
       "      <td>Westmeath County Council</td>\n",
       "      <td>Number</td>\n",
       "      <td>41.0</td>\n",
       "    </tr>\n",
       "    <tr>\n",
       "      <th>1342</th>\n",
       "      <td>Deaths Registered</td>\n",
       "      <td>2023Q3</td>\n",
       "      <td>All other causes</td>\n",
       "      <td>Wicklow County Council</td>\n",
       "      <td>Number</td>\n",
       "      <td>53.0</td>\n",
       "    </tr>\n",
       "    <tr>\n",
       "      <th>1343</th>\n",
       "      <td>Deaths Registered</td>\n",
       "      <td>2023Q3</td>\n",
       "      <td>All other causes</td>\n",
       "      <td>Wexford County Council</td>\n",
       "      <td>Number</td>\n",
       "      <td>71.0</td>\n",
       "    </tr>\n",
       "  </tbody>\n",
       "</table>\n",
       "<p>1344 rows × 6 columns</p>\n",
       "</div>"
      ],
      "text/plain": [
       "        Statistic Label Quarter          Cause of Death  \\\n",
       "0     Deaths Registered  2022Q1  Total deaths (A00-Y89)   \n",
       "1     Deaths Registered  2022Q1  Total deaths (A00-Y89)   \n",
       "2     Deaths Registered  2022Q1  Total deaths (A00-Y89)   \n",
       "3     Deaths Registered  2022Q1  Total deaths (A00-Y89)   \n",
       "4     Deaths Registered  2022Q1  Total deaths (A00-Y89)   \n",
       "...                 ...     ...                     ...   \n",
       "1339  Deaths Registered  2023Q3        All other causes   \n",
       "1340  Deaths Registered  2023Q3        All other causes   \n",
       "1341  Deaths Registered  2023Q3        All other causes   \n",
       "1342  Deaths Registered  2023Q3        All other causes   \n",
       "1343  Deaths Registered  2023Q3        All other causes   \n",
       "\n",
       "      County of Residence of Deceased    UNIT   VALUE  \n",
       "0                             Ireland  Number  9535.0  \n",
       "1                   Cork City Council  Number   376.0  \n",
       "2                Clare County Council  Number   236.0  \n",
       "3                Cavan County Council  Number   150.0  \n",
       "4                 Cork County Council  Number   766.0  \n",
       "...                               ...     ...     ...  \n",
       "1339         Tipperary County Council  Number    81.0  \n",
       "1340  Waterford City & County Council  Number    68.0  \n",
       "1341         Westmeath County Council  Number    41.0  \n",
       "1342           Wicklow County Council  Number    53.0  \n",
       "1343           Wexford County Council  Number    71.0  \n",
       "\n",
       "[1344 rows x 6 columns]"
      ]
     },
     "execution_count": 15,
     "metadata": {},
     "output_type": "execute_result"
    }
   ],
   "source": [
    "df_dict['deaths_by_location']"
   ]
  },
  {
   "cell_type": "code",
   "execution_count": null,
   "metadata": {},
   "outputs": [],
   "source": []
  }
 ],
 "metadata": {
  "kernelspec": {
   "display_name": "data_analysis",
   "language": "python",
   "name": "python3"
  },
  "language_info": {
   "codemirror_mode": {
    "name": "ipython",
    "version": 3
   },
   "file_extension": ".py",
   "mimetype": "text/x-python",
   "name": "python",
   "nbconvert_exporter": "python",
   "pygments_lexer": "ipython3",
   "version": "3.12.3"
  }
 },
 "nbformat": 4,
 "nbformat_minor": 2
}

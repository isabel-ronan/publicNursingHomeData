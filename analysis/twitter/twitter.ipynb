{
 "cells": [
  {
   "cell_type": "markdown",
   "metadata": {},
   "source": [
    "# Tutorial from [Geeks for Geeks](https://www.geeksforgeeks.org/twitter-sentiment-analysis-using-python/)\n",
    "\n",
    "- using conda environment named 'data_analysis' (Python 3.12.3)"
   ]
  },
  {
   "cell_type": "code",
   "execution_count": null,
   "metadata": {},
   "outputs": [],
   "source": [
    "# run the command 'python -m textblob.download_corpora' to get structured text to work with"
   ]
  },
  {
   "cell_type": "code",
   "execution_count": 5,
   "metadata": {},
   "outputs": [],
   "source": [
    "# import libraries\n",
    "import re\n",
    "import tweepy\n",
    "from tweepy import OAuthHandler\n",
    "from textblob import TextBlob\n",
    "import json"
   ]
  },
  {
   "cell_type": "code",
   "execution_count": 25,
   "metadata": {},
   "outputs": [],
   "source": [
    "import tweepy.errors\n",
    "\n",
    "\n",
    "class TwitterClient(object):\n",
    "    '''\n",
    "    This is a twitter class for sentiment analysis.\n",
    "    '''\n",
    "    def __init__(self):\n",
    "        ''' \n",
    "        initialization / constructor\n",
    "        '''\n",
    "        # get keys and tokens from the Twitter Dev Console\n",
    "        consumer_key = 'OIZCfcPsuGm56nUnyT7siCcSu'\n",
    "        consumer_secret = 'cyCPUrMbDJYcu95RfA80DMeQfhgRzU7ssvVnR9g2LDBIxrr1oM'\n",
    "        access_token = '1259988784201990149-DBcQY3pP7VcXM7QU0q84Z17Dsf3aoB'\n",
    "        access_token_secret = 'rxRLvjU4OCus8sfQCbHkMXfWBk5P8hQTKYhSSUa7ZgacY'\n",
    "\n",
    "        # attempt authentication\n",
    "        try:\n",
    "            # create handler object\n",
    "            self.auth = OAuthHandler(consumer_key, consumer_secret)\n",
    "            # set access token and secret\n",
    "            self.auth.set_access_token(access_token, access_token_secret)\n",
    "            # create tweepy API object to fetch tweets\n",
    "            self.api = tweepy.API(self.auth)\n",
    "        except:\n",
    "            print(\"Error: Authentication Failed.\")\n",
    "        \n",
    "    def clean_tweet(self, tweet):\n",
    "        '''\n",
    "        Clean tweet text by removing links and special characters.\n",
    "        '''\n",
    "        return ' '.join(re.sub(r\"(@[A-Za-z0-9]+)|([^0-9A-Za-z \\t])|(\\w+:\\/\\/\\S+)\", \" \", tweet).split())\n",
    "    \n",
    "    def get_tweet_sentiment(self, tweet):\n",
    "        '''\n",
    "        Classify sentiment of passed tweet using textblob's sentiment method.\n",
    "        '''\n",
    "        # create TextBlob object of passed tweet text\n",
    "        analysis = TextBlob(self.clean_tweet(tweet))\n",
    "        # set sentiment\n",
    "        if analysis.sentiment.polarity > 0:\n",
    "            return 'positive'\n",
    "        elif analysis.sentiment.polarity == 0:\n",
    "            return 'neutral'\n",
    "        else:\n",
    "            return 'negative'\n",
    "        \n",
    "    def get_tweets(self, query, count = 10):\n",
    "        '''\n",
    "        Main function to fetch tweets and parse them.\n",
    "        '''\n",
    "        # empty list to store parsed tweets\n",
    "        tweets = []\n",
    "\n",
    "        try:\n",
    "            # call twitter api to fetch tweets\n",
    "            fetched_tweets = self.api.search_tweets(q = query, count = count)\n",
    "\n",
    "            # parsing tweets one by one\n",
    "            for tweet in fetched_tweets:\n",
    "                # empty dictionary to store required params of a tweet\n",
    "                parsed_tweet = {}\n",
    "\n",
    "                # saving text of tweet\n",
    "                parsed_tweet['text'] = tweet.text\n",
    "                # saving sentiment of tweet\n",
    "                parsed_tweet['sentiment'] = self.get_tweet_sentiment(tweet.text)\n",
    "\n",
    "                # appending parsed tweet to tweets list\n",
    "                if tweet.retweet_count > 0:\n",
    "                    # if tweet has retweets, ensure that it is appended only once\n",
    "                    if parsed_tweet not in tweets:\n",
    "                        tweets.append(parsed_tweet)\n",
    "                    else:\n",
    "                        tweets.append(parsed_tweet)\n",
    "            \n",
    "            # return parsed tweets\n",
    "            return tweets\n",
    "        except tweepy.errors.TweepyException as e:\n",
    "            # print error (if any)\n",
    "            print(\"Error : \" + str(e))"
   ]
  },
  {
   "cell_type": "code",
   "execution_count": 26,
   "metadata": {},
   "outputs": [],
   "source": [
    "def get_analysis(query, count = 200, saving = True, file_name='example.json'):\n",
    "    # create object of TwitterClient class\n",
    "    api = TwitterClient()\n",
    "    # calling function to get tweets\n",
    "    tweets = api.get_tweets(query=query, count = count)\n",
    "    if saving:\n",
    "        with open(file_name, 'w') as f:\n",
    "            json.dump(tweets, f)\n",
    "    return tweets"
   ]
  },
  {
   "cell_type": "code",
   "execution_count": 27,
   "metadata": {},
   "outputs": [
    {
     "name": "stdout",
     "output_type": "stream",
     "text": [
      "Error : 403 Forbidden\n",
      "453 - You currently have access to a subset of Twitter API v2 endpoints and limited v1.1 endpoints (e.g. media post, oauth) only. If you need access to this endpoint, you may need a different access level. You can learn more here: https://developer.twitter.com/en/portal/product\n"
     ]
    }
   ],
   "source": [
    "tweets = get_analysis('Nursing Homes', 200, True, 'Nursing_Homes.json')"
   ]
  },
  {
   "cell_type": "code",
   "execution_count": 28,
   "metadata": {},
   "outputs": [
    {
     "name": "stdout",
     "output_type": "stream",
     "text": [
      "Error: 500\n",
      "\n"
     ]
    }
   ],
   "source": [
    "import requests\n",
    "\n",
    "# define your bearer token\n",
    "bearer_token = 'AAAAAAAAAAAAAAAAAAAAACwqtwEAAAAAJXIQ%2FM5EsAZf75YwKs9Qoskil9o%'\n",
    "\n",
    "# define the endpoint URL\n",
    "endpoint_url = 'https://api.twitter.com/2/tweets/search/recent'\n",
    "\n",
    "# define the query parameters\n",
    "query_params = {\n",
    "    'query': 'your_search_query',\n",
    "    'max_results': 10  # Adjust as needed\n",
    "}\n",
    "\n",
    "# define headers\n",
    "headers = {\n",
    "    'Authorization': f'Bearer {bearer_token}'\n",
    "}\n",
    "\n",
    "# make the request\n",
    "response = requests.get(endpoint_url, params=query_params, headers=headers)\n",
    "\n",
    "# check if the request was successful\n",
    "if response.status_code == 200:\n",
    "    # parse the JSON response\n",
    "    data = response.json()\n",
    "    \n",
    "    # access the tweets\n",
    "    tweets = data['data']\n",
    "    \n",
    "    # process the tweets as needed\n",
    "    for tweet in tweets:\n",
    "        print(tweet['text'])\n",
    "else:\n",
    "    # print the error message\n",
    "    print(f'Error: {response.status_code}')\n",
    "    print(response.text)\n"
   ]
  },
  {
   "cell_type": "markdown",
   "metadata": {},
   "source": [
    "## Twitter API Status\n",
    "- Twitter has ended free access to its API - now, there is a limited [free-tier](https://devcommunity.x.com/t/is-free-access-to-the-twitter-api-officially-no-longer-available/200822) available which is not very useful.  "
   ]
  }
 ],
 "metadata": {
  "kernelspec": {
   "display_name": "data_analysis",
   "language": "python",
   "name": "python3"
  },
  "language_info": {
   "codemirror_mode": {
    "name": "ipython",
    "version": 3
   },
   "file_extension": ".py",
   "mimetype": "text/x-python",
   "name": "python",
   "nbconvert_exporter": "python",
   "pygments_lexer": "ipython3",
   "version": "3.12.3"
  }
 },
 "nbformat": 4,
 "nbformat_minor": 2
}
